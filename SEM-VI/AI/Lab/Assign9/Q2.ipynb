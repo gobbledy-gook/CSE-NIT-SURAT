{
 "cells": [
  {
   "cell_type": "code",
   "execution_count": 2,
   "metadata": {},
   "outputs": [],
   "source": [
    "# Import what we need\n",
    "from nltk.tokenize import word_tokenize"
   ]
  },
  {
   "cell_type": "code",
   "execution_count": 3,
   "metadata": {},
   "outputs": [],
   "source": [
    "# Create example text data\n",
    "text = \"The dog sits on the porch.\""
   ]
  },
  {
   "cell_type": "code",
   "execution_count": 9,
   "metadata": {},
   "outputs": [
    {
     "name": "stdout",
     "output_type": "stream",
     "text": [
      "['The', 'dog', 'sits', 'on', 'the', 'porch']\n"
     ]
    }
   ],
   "source": [
    "# Import the tokenizer\n",
    "from nltk.tokenize import RegexpTokenizer\n",
    "# Define the tokenizer parameters\n",
    "tokenizer = RegexpTokenizer(\"[\\w']+\")\n",
    " # Tokenize text data\n",
    "tokenized_text = tokenizer.tokenize(text)\n",
    "print(tokenized_text)\n"
   ]
  },
  {
   "cell_type": "code",
   "execution_count": 10,
   "metadata": {},
   "outputs": [
    {
     "name": "stdout",
     "output_type": "stream",
     "text": [
      "['Machine Learning can usually be divided into \\n                          classic Machine Learning and Deep Learning.', 'Classic Machine Learning is relatively easy to understand.', 'Deep Learning on the other hand is a bit more complex.']\n"
     ]
    }
   ],
   "source": [
    "# Import what we need\n",
    "from nltk.tokenize import sent_tokenize\n",
    "# Define example text data\n",
    "sentences = \"\"\"Machine Learning can usually be divided into \n",
    "                          classic Machine Learning and Deep Learning. \n",
    "                          Classic Machine Learning is relatively easy to understand. \n",
    "                          Deep Learning on the other hand is a bit more complex.\"\"\"\n",
    "# Tokenize text data\n",
    "tokenized_sentences = sent_tokenize(sentences)\n",
    "print(tokenized_sentences)"
   ]
  },
  {
   "cell_type": "code",
   "execution_count": 6,
   "metadata": {},
   "outputs": [],
   "source": [
    "# Import what we need\n",
    "from nltk import ngrams"
   ]
  },
  {
   "cell_type": "code",
   "execution_count": 11,
   "metadata": {},
   "outputs": [
    {
     "name": "stdout",
     "output_type": "stream",
     "text": [
      "<zip object at 0x128bcf640>\n"
     ]
    }
   ],
   "source": [
    "# Define n\n",
    "n = 2\n",
    "\n",
    "# Separate text into bigrams\n",
    "bigrams = ngrams(tokenized_text, n)\n",
    "print(bigrams)"
   ]
  },
  {
   "cell_type": "code",
   "execution_count": 12,
   "metadata": {},
   "outputs": [
    {
     "name": "stdout",
     "output_type": "stream",
     "text": [
      "[('The', 'dog'), ('dog', 'sits'), ('sits', 'on'), ('on', 'the'), ('the', 'porch')]\n"
     ]
    }
   ],
   "source": [
    "# Create an empty list where we will store the bigrams\n",
    "bigram_list = []\n",
    "\n",
    "# Store bigrams inside the list\n",
    "for phrase in bigrams: \n",
    "    bigram_list.append(phrase)\n",
    "\n",
    "print(bigram_list)"
   ]
  }
 ],
 "metadata": {
  "kernelspec": {
   "display_name": "Python 3",
   "language": "python",
   "name": "python3"
  },
  "language_info": {
   "codemirror_mode": {
    "name": "ipython",
    "version": 3
   },
   "file_extension": ".py",
   "mimetype": "text/x-python",
   "name": "python",
   "nbconvert_exporter": "python",
   "pygments_lexer": "ipython3",
   "version": "3.11.2"
  }
 },
 "nbformat": 4,
 "nbformat_minor": 2
}
