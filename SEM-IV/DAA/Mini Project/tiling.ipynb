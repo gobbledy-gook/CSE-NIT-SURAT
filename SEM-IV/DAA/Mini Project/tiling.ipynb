{
 "cells": [
  {
   "cell_type": "code",
   "execution_count": 1,
   "metadata": {},
   "outputs": [],
   "source": [
    "courtyard = [[0, 0, 0, 0 ,0 ,0, 0, 0],\n",
    "            [0, 0, 0, 0 ,0 ,0, 0, 0],\n",
    "            [0, 0, 0, 0 ,0 ,0, 0, 0],\n",
    "            [0, 0, 0, 0 ,0 ,0, 0, 0],\n",
    "            [0, 0, 0, 0 ,0 ,0, 0, 0],\n",
    "            [0, 0, 0, 0 ,0 ,100, 0, 0],\n",
    "            [0, 0, 0, 0 ,0 ,0, 0, 0],\n",
    "            [0, 0, 0, 0 ,0 ,0, 0, 0],]   "
   ]
  },
  {
   "cell_type": "code",
   "execution_count": null,
   "metadata": {},
   "outputs": [],
   "source": [
    "def tiling(courtyard, rows, cols, pos_of_statue, x):\n",
    "    if(len(courtyard == 2)):\n",
    "        for i in rows:\n",
    "            for j in cols:\n",
    "                if courtyard[i][j] == 0:\n",
    "                    courtyard[i][j] = x\n",
    "                    x+=1\n",
    "        return\n",
    "        #tile the block 2x2\n",
    "\n",
    "    rows_ = rows//2\n",
    "    cols_ = cols//2\n",
    "    if pos_of_statue[0] < rows_:\n",
    "        if pos_of_statue[1] < cols_:\n",
    "            courtyard[rows_][cols_ + 1] = x\n",
    "            courtyard[rows_+1][cols_ + 1] =  x\n",
    "            courtyard[rows_+1][cols_] = x\n",
    "        else:\n",
    "            courtyard[rows_][cols_] = x\n",
    "            courtyard[rows_+1][cols_ + 1] = x\n",
    "            courtyard[rows_ + 1][cols_] = x \n",
    "    else:\n",
    "        if pos_of_statue[1] < cols_:\n",
    "            courtyard[rows_][cols_] = x\n",
    "            courtyard[rows_+1][cols_ + 1] = x\n",
    "            courtyard[rows_][cols_+1] = x\n",
    "        else:\n",
    "            courtyard[rows_][cols_] = x\n",
    "            courtyard[rows_+1][cols_] = x\n",
    "            courtyard[rows_][cols_ + 1] = x\n",
    "    x+=1 \n",
    "\n",
    "\n",
    "    # tiling(courtyard, rows, cols, pos_of_statue)"
   ]
  },
  {
   "cell_type": "code",
   "execution_count": null,
   "metadata": {},
   "outputs": [],
   "source": [
    "tiling(courtyard, 8, 8, [5,5], 1)"
   ]
  }
 ],
 "metadata": {
  "kernelspec": {
   "display_name": "Python 3",
   "language": "python",
   "name": "python3"
  },
  "language_info": {
   "codemirror_mode": {
    "name": "ipython",
    "version": 3
   },
   "file_extension": ".py",
   "mimetype": "text/x-python",
   "name": "python",
   "nbconvert_exporter": "python",
   "pygments_lexer": "ipython3",
   "version": "3.9.6"
  },
  "orig_nbformat": 4
 },
 "nbformat": 4,
 "nbformat_minor": 2
}
